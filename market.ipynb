{
  "nbformat": 4,
  "nbformat_minor": 0,
  "metadata": {
    "colab": {
      "name": "market",
      "provenance": [],
      "collapsed_sections": []
    },
    "kernelspec": {
      "name": "python3",
      "display_name": "Python 3"
    },
    "language_info": {
      "name": "python"
    }
  },
  "cells": [
    {
      "cell_type": "code",
      "execution_count": null,
      "metadata": {
        "id": "eMZi4J1WxWBA"
      },
      "outputs": [],
      "source": [
        "import numpy as np\n",
        "import matplotlib.pyplot as plt\n",
        "import pandas as pd\n",
        "\n",
        "dataset = pd.read_csv('Market_Basket_Optimisation.csv')\n",
        "\n",
        "transactions = []\n",
        "for i in range(0, 7501):\n",
        "  transactions.append([str(dataset.values[i,j]) for j in range(0, 20)])\n",
        "from mlxtend.frequent_patterns import apriori\n",
        "        \n",
        "rules= apriori(transactions, min_support = 0.003, min_confidence = 0.2, min_lift = 3, min_length = 2) \n",
        "\n",
        "results_list = []\n",
        "for i in range(0, len(results)):\n",
        "    results_list.append('RULE:\\t' + str(results[i][0]) + '\\nSUPPORT:\\t' + str(results[i][1]) + '\\n' + str(results[i][2]))"
      ]
    }
  ]
}